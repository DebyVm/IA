{
  "nbformat": 4,
  "nbformat_minor": 0,
  "metadata": {
    "colab": {
      "provenance": [],
      "authorship_tag": "ABX9TyP4LuvCKZc5srH0vtXg03Ol",
      "include_colab_link": true
    },
    "kernelspec": {
      "name": "python3",
      "display_name": "Python 3"
    },
    "language_info": {
      "name": "python"
    }
  },
  "cells": [
    {
      "cell_type": "markdown",
      "metadata": {
        "id": "view-in-github",
        "colab_type": "text"
      },
      "source": [
        "<a href=\"https://colab.research.google.com/github/DebyVm/IA/blob/main/PythonExercises_1.ipynb\" target=\"_parent\"><img src=\"https://colab.research.google.com/assets/colab-badge.svg\" alt=\"Open In Colab\"/></a>"
      ]
    },
    {
      "cell_type": "markdown",
      "source": [
        "1.- Develop an algorithm that can make the conversion from decimal to binary system (from 0 to 255).  \n"
      ],
      "metadata": {
        "id": "p8UKe4c0E07G"
      }
    },
    {
      "cell_type": "code",
      "source": [
        "entero = int(input(\"Number between 0 & 255: \"))\n",
        "print(\"Binary\",bin(entero)[2:])"
      ],
      "metadata": {
        "colab": {
          "base_uri": "https://localhost:8080/"
        },
        "id": "RjI4HuZqE0iO",
        "outputId": "57c2518c-7044-4ea0-b5cb-7108bce9dd53"
      },
      "execution_count": 5,
      "outputs": [
        {
          "output_type": "stream",
          "name": "stdout",
          "text": [
            "Number between 0 & 255: 32\n",
            "Binary 100000\n"
          ]
        }
      ]
    },
    {
      "cell_type": "markdown",
      "source": [
        "2.- Math Pyramid: This algorithm will create a math pyramid from an initial list of integers. An example of the final result will look like this: "
      ],
      "metadata": {
        "id": "dYXjOXOlFsZ9"
      }
    },
    {
      "cell_type": "code",
      "source": [
        "pyramid = [6,9,32,5]\n",
        "print(pyramid) #we print it hehe \n",
        "for d in range(0,len(pyramid)-1):\n",
        "  for v in range(0,len(pyramid)-1):\n",
        "    x= pyramid[v]+pyramid[v+1] # we make x the new addition!!!!\n",
        "    del pyramid[v] # we delete the previous value cause me dont want it no more!!!\n",
        "    pyramid.insert(v,x) # we add the x as the new value!! \n",
        "  del pyramid[len(pyramid)-1] # we delete the last value cause it cant do it by itself!!\n",
        "  print(pyramid) "
      ],
      "metadata": {
        "colab": {
          "base_uri": "https://localhost:8080/"
        },
        "id": "1V5mhpHvFtI8",
        "outputId": "59e15a9a-1813-45da-b69d-933160514c2b"
      },
      "execution_count": 10,
      "outputs": [
        {
          "output_type": "stream",
          "name": "stdout",
          "text": [
            "[6, 9, 32, 5]\n",
            "[15, 41, 37]\n",
            "[56, 78]\n",
            "[134]\n"
          ]
        }
      ]
    }
  ]
}